{
 "cells": [
  {
   "cell_type": "markdown",
   "metadata": {},
   "source": [
    "# ATR (Average True Range)\n",
    "시간에 따른 주가 변동성을 나타낸 지표로 주식의 위험도와 투자 적합 여부를 판단하는데 사용합니다. "
   ]
  },
  {
   "cell_type": "markdown",
   "metadata": {},
   "source": [
    "> 예를 들어 주가의 변동성이 심하다면, 비중을 줄이거나 투자하지 않아 위험도를 낮추는 판단을 할 수 있습니다. "
   ]
  },
  {
   "cell_type": "markdown",
   "metadata": {},
   "source": [
    "`Range`란 하루의 매매를 의미하며, 다음 세 가지 지표중 가장 큰 값을 `TR`로 정의합니다.\n",
    "```text\n",
    "금일 고가 - 금일 저가\n",
    "금일 고가 - 전일 종가\n",
    "금일 저가 - 전일 종가\n",
    "```"
   ]
  },
  {
   "cell_type": "code",
   "execution_count": null,
   "metadata": {},
   "outputs": [],
   "source": []
  }
 ],
 "metadata": {
  "kernelspec": {
   "display_name": "Python 3",
   "language": "python",
   "name": "python3"
  },
  "language_info": {
   "codemirror_mode": {
    "name": "ipython",
    "version": 3
   },
   "file_extension": ".py",
   "mimetype": "text/x-python",
   "name": "python",
   "nbconvert_exporter": "python",
   "pygments_lexer": "ipython3",
   "version": "3.9.1"
  }
 },
 "nbformat": 4,
 "nbformat_minor": 4
}
