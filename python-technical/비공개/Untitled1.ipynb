{
 "cells": [
  {
   "cell_type": "code",
   "execution_count": 1,
   "metadata": {},
   "outputs": [
    {
     "ename": "SyntaxError",
     "evalue": "invalid syntax (<ipython-input-1-39c5bb26093c>, line 3)",
     "output_type": "error",
     "traceback": [
      "\u001b[1;36m  File \u001b[1;32m\"<ipython-input-1-39c5bb26093c>\"\u001b[1;36m, line \u001b[1;32m3\u001b[0m\n\u001b[1;33m    tickers = [ k, v for k, v in data.items()]\u001b[0m\n\u001b[1;37m                     ^\u001b[0m\n\u001b[1;31mSyntaxError\u001b[0m\u001b[1;31m:\u001b[0m invalid syntax\n"
     ]
    }
   ],
   "source": [
    "data = {\"a\":10, \"b\":20}\n",
    "\n",
    "tickers = [ k, v for k, v in data.items()]"
   ]
  },
  {
   "cell_type": "code",
   "execution_count": 3,
   "metadata": {},
   "outputs": [
    {
     "data": {
      "text/plain": [
       "dict_items([('a', 10), ('b', 20)])"
      ]
     },
     "execution_count": 3,
     "metadata": {},
     "output_type": "execute_result"
    }
   ],
   "source": [
    "data = {\"a\":10, \"b\":20}\n",
    "data.items()"
   ]
  },
  {
   "cell_type": "code",
   "execution_count": 7,
   "metadata": {},
   "outputs": [],
   "source": [
    "tickers = [ k for k, v in data.items() if v < 100]"
   ]
  },
  {
   "cell_type": "code",
   "execution_count": 8,
   "metadata": {},
   "outputs": [
    {
     "data": {
      "text/plain": [
       "[10, 20]"
      ]
     },
     "execution_count": 8,
     "metadata": {},
     "output_type": "execute_result"
    }
   ],
   "source": [
    "tickers"
   ]
  },
  {
   "cell_type": "code",
   "execution_count": null,
   "metadata": {},
   "outputs": [],
   "source": [
    "from pykrx import stock"
   ]
  },
  {
   "cell_type": "code",
   "execution_count": null,
   "metadata": {},
   "outputs": [],
   "source": [
    "pdf = stock.get_index_portfolio_deposit_file(\"1028\")\n",
    "pdf"
   ]
  },
  {
   "cell_type": "code",
   "execution_count": null,
   "metadata": {},
   "outputs": [],
   "source": [
    "!pip install -U pybithumb"
   ]
  },
  {
   "cell_type": "code",
   "execution_count": 1,
   "metadata": {},
   "outputs": [
    {
     "data": {
      "text/html": [
       "<div>\n",
       "<style scoped>\n",
       "    .dataframe tbody tr th:only-of-type {\n",
       "        vertical-align: middle;\n",
       "    }\n",
       "\n",
       "    .dataframe tbody tr th {\n",
       "        vertical-align: top;\n",
       "    }\n",
       "\n",
       "    .dataframe thead th {\n",
       "        text-align: right;\n",
       "    }\n",
       "</style>\n",
       "<table border=\"1\" class=\"dataframe\">\n",
       "  <thead>\n",
       "    <tr style=\"text-align: right;\">\n",
       "      <th></th>\n",
       "      <th>open</th>\n",
       "      <th>high</th>\n",
       "      <th>low</th>\n",
       "      <th>close</th>\n",
       "      <th>volume</th>\n",
       "    </tr>\n",
       "    <tr>\n",
       "      <th>time</th>\n",
       "      <th></th>\n",
       "      <th></th>\n",
       "      <th></th>\n",
       "      <th></th>\n",
       "      <th></th>\n",
       "    </tr>\n",
       "  </thead>\n",
       "  <tbody>\n",
       "    <tr>\n",
       "      <th>2013-12-27 18:00:00</th>\n",
       "      <td>737000.0</td>\n",
       "      <td>755000.0</td>\n",
       "      <td>737000.0</td>\n",
       "      <td>755000.0</td>\n",
       "      <td>3.780</td>\n",
       "    </tr>\n",
       "    <tr>\n",
       "      <th>2013-12-28 12:00:00</th>\n",
       "      <td>750000.0</td>\n",
       "      <td>750000.0</td>\n",
       "      <td>750000.0</td>\n",
       "      <td>750000.0</td>\n",
       "      <td>12.000</td>\n",
       "    </tr>\n",
       "    <tr>\n",
       "      <th>2013-12-29 06:00:00</th>\n",
       "      <td>750000.0</td>\n",
       "      <td>750000.0</td>\n",
       "      <td>750000.0</td>\n",
       "      <td>750000.0</td>\n",
       "      <td>1.000</td>\n",
       "    </tr>\n",
       "    <tr>\n",
       "      <th>2013-12-29 12:00:00</th>\n",
       "      <td>728000.0</td>\n",
       "      <td>735000.0</td>\n",
       "      <td>728000.0</td>\n",
       "      <td>735000.0</td>\n",
       "      <td>9.699</td>\n",
       "    </tr>\n",
       "    <tr>\n",
       "      <th>2013-12-29 18:00:00</th>\n",
       "      <td>731000.0</td>\n",
       "      <td>740000.0</td>\n",
       "      <td>731000.0</td>\n",
       "      <td>739000.0</td>\n",
       "      <td>8.359</td>\n",
       "    </tr>\n",
       "  </tbody>\n",
       "</table>\n",
       "</div>"
      ],
      "text/plain": [
       "                         open      high       low     close  volume\n",
       "time                                                               \n",
       "2013-12-27 18:00:00  737000.0  755000.0  737000.0  755000.0   3.780\n",
       "2013-12-28 12:00:00  750000.0  750000.0  750000.0  750000.0  12.000\n",
       "2013-12-29 06:00:00  750000.0  750000.0  750000.0  750000.0   1.000\n",
       "2013-12-29 12:00:00  728000.0  735000.0  728000.0  735000.0   9.699\n",
       "2013-12-29 18:00:00  731000.0  740000.0  731000.0  739000.0   8.359"
      ]
     },
     "execution_count": 1,
     "metadata": {},
     "output_type": "execute_result"
    }
   ],
   "source": [
    "import pybithumb\n",
    "\n",
    "df = pybithumb.get_candlestick(\"BTC\", chart_intervals=\"6h\")\n",
    "df.head()"
   ]
  },
  {
   "cell_type": "code",
   "execution_count": 7,
   "metadata": {},
   "outputs": [
    {
     "data": {
      "text/html": [
       "<div>\n",
       "<style scoped>\n",
       "    .dataframe tbody tr th:only-of-type {\n",
       "        vertical-align: middle;\n",
       "    }\n",
       "\n",
       "    .dataframe tbody tr th {\n",
       "        vertical-align: top;\n",
       "    }\n",
       "\n",
       "    .dataframe thead th {\n",
       "        text-align: right;\n",
       "    }\n",
       "</style>\n",
       "<table border=\"1\" class=\"dataframe\">\n",
       "  <thead>\n",
       "    <tr style=\"text-align: right;\">\n",
       "      <th></th>\n",
       "      <th>open</th>\n",
       "      <th>high</th>\n",
       "      <th>low</th>\n",
       "      <th>close</th>\n",
       "      <th>volume</th>\n",
       "    </tr>\n",
       "    <tr>\n",
       "      <th>time</th>\n",
       "      <th></th>\n",
       "      <th></th>\n",
       "      <th></th>\n",
       "      <th></th>\n",
       "      <th></th>\n",
       "    </tr>\n",
       "  </thead>\n",
       "  <tbody>\n",
       "    <tr>\n",
       "      <th>2021-02-12 00:00:00</th>\n",
       "      <td>50629000.0</td>\n",
       "      <td>52250000.0</td>\n",
       "      <td>50142000.0</td>\n",
       "      <td>50506000.0</td>\n",
       "      <td>5381.109380</td>\n",
       "    </tr>\n",
       "    <tr>\n",
       "      <th>2021-02-13 00:00:00</th>\n",
       "      <td>50506000.0</td>\n",
       "      <td>51755000.0</td>\n",
       "      <td>50140000.0</td>\n",
       "      <td>50890000.0</td>\n",
       "      <td>4429.722888</td>\n",
       "    </tr>\n",
       "    <tr>\n",
       "      <th>2021-02-14 00:00:00</th>\n",
       "      <td>50890000.0</td>\n",
       "      <td>53112000.0</td>\n",
       "      <td>50150000.0</td>\n",
       "      <td>51885000.0</td>\n",
       "      <td>5189.826227</td>\n",
       "    </tr>\n",
       "    <tr>\n",
       "      <th>2021-02-15 00:00:00</th>\n",
       "      <td>51885000.0</td>\n",
       "      <td>53020000.0</td>\n",
       "      <td>50739000.0</td>\n",
       "      <td>51732000.0</td>\n",
       "      <td>4695.093939</td>\n",
       "    </tr>\n",
       "    <tr>\n",
       "      <th>2021-02-16 03:00:00</th>\n",
       "      <td>51732000.0</td>\n",
       "      <td>52640000.0</td>\n",
       "      <td>51710000.0</td>\n",
       "      <td>52408000.0</td>\n",
       "      <td>420.115006</td>\n",
       "    </tr>\n",
       "  </tbody>\n",
       "</table>\n",
       "</div>"
      ],
      "text/plain": [
       "                           open        high         low       close  \\\n",
       "time                                                                  \n",
       "2021-02-12 00:00:00  50629000.0  52250000.0  50142000.0  50506000.0   \n",
       "2021-02-13 00:00:00  50506000.0  51755000.0  50140000.0  50890000.0   \n",
       "2021-02-14 00:00:00  50890000.0  53112000.0  50150000.0  51885000.0   \n",
       "2021-02-15 00:00:00  51885000.0  53020000.0  50739000.0  51732000.0   \n",
       "2021-02-16 03:00:00  51732000.0  52640000.0  51710000.0  52408000.0   \n",
       "\n",
       "                          volume  \n",
       "time                              \n",
       "2021-02-12 00:00:00  5381.109380  \n",
       "2021-02-13 00:00:00  4429.722888  \n",
       "2021-02-14 00:00:00  5189.826227  \n",
       "2021-02-15 00:00:00  4695.093939  \n",
       "2021-02-16 03:00:00   420.115006  "
      ]
     },
     "execution_count": 7,
     "metadata": {},
     "output_type": "execute_result"
    }
   ],
   "source": [
    "df = pybithumb.get_candlestick(\"BTC\", chart_intervals=\"24h\")\n",
    "df.tail()"
   ]
  },
  {
   "cell_type": "code",
   "execution_count": null,
   "metadata": {},
   "outputs": [],
   "source": [
    "df.index[0].strftime(\"%Y%m%d\")"
   ]
  },
  {
   "cell_type": "code",
   "execution_count": 14,
   "metadata": {},
   "outputs": [
    {
     "data": {
      "text/plain": [
       "1388102400.0"
      ]
     },
     "execution_count": 14,
     "metadata": {},
     "output_type": "execute_result"
    }
   ],
   "source": [
    "df.index[0].timestamp()"
   ]
  },
  {
   "cell_type": "code",
   "execution_count": null,
   "metadata": {},
   "outputs": [],
   "source": [
    "!pip install -U pybithumb"
   ]
  },
  {
   "cell_type": "code",
   "execution_count": 4,
   "metadata": {},
   "outputs": [
    {
     "data": {
      "text/plain": [
       "array(['2013-12-27T00:00:00.000000000', '2013-12-28T00:00:00.000000000',\n",
       "       '2013-12-29T00:00:00.000000000', ...,\n",
       "       '2021-02-14T00:00:00.000000000', '2021-02-15T00:00:00.000000000',\n",
       "       '2021-02-16T02:00:00.000000000'], dtype='datetime64[ns]')"
      ]
     },
     "execution_count": 4,
     "metadata": {},
     "output_type": "execute_result"
    }
   ],
   "source": [
    "df.index.values"
   ]
  },
  {
   "cell_type": "code",
   "execution_count": 21,
   "metadata": {},
   "outputs": [
    {
     "data": {
      "text/plain": [
       "2021-04-30 18:46:00    1\n",
       "2021-04-30 18:47:00    1\n",
       "2021-04-30 18:48:00    1\n",
       "2021-04-30 18:49:00    1\n",
       "2021-04-30 18:50:00    1\n",
       "                      ..\n",
       "2021-04-30 21:57:00    1\n",
       "2021-04-30 21:58:00    2\n",
       "2021-04-30 21:59:00    2\n",
       "2021-04-30 22:00:00    3\n",
       "2021-04-30 22:01:00    3\n",
       "Name: close, Length: 196, dtype: int32"
      ]
     },
     "execution_count": 21,
     "metadata": {},
     "output_type": "execute_result"
    }
   ],
   "source": [
    "import pyupbit\n",
    "\n",
    "df = pyupbit.get_ohlcv(\"KRW-XRP\", interval=\"minute1\")\n",
    "df = df[ [ 'close' ]  ]\n",
    "cond = df['close'].shift(1) < df['close']\n",
    "cond.astype(int).rolling(5).sum().dropna().astype(int)"
   ]
  },
  {
   "cell_type": "code",
   "execution_count": 18,
   "metadata": {},
   "outputs": [
    {
     "data": {
      "text/plain": [
       "2021-04-30 21:34:00    0\n",
       "2021-04-30 21:35:00    1\n",
       "2021-04-30 21:36:00    0\n",
       "2021-04-30 21:37:00    1\n",
       "2021-04-30 21:38:00    1\n",
       "2021-04-30 21:39:00    0\n",
       "2021-04-30 21:40:00    1\n",
       "2021-04-30 21:41:00    0\n",
       "2021-04-30 21:42:00    0\n",
       "2021-04-30 21:43:00    0\n",
       "2021-04-30 21:44:00    0\n",
       "2021-04-30 21:45:00    0\n",
       "2021-04-30 21:46:00    0\n",
       "2021-04-30 21:47:00    1\n",
       "2021-04-30 21:48:00    0\n",
       "2021-04-30 21:49:00    0\n",
       "2021-04-30 21:50:00    0\n",
       "2021-04-30 21:51:00    0\n",
       "2021-04-30 21:52:00    1\n",
       "2021-04-30 21:53:00    0\n",
       "Name: close, dtype: int32"
      ]
     },
     "execution_count": 18,
     "metadata": {},
     "output_type": "execute_result"
    }
   ],
   "source": [
    "cond.astype(int).tail(20)"
   ]
  },
  {
   "cell_type": "code",
   "execution_count": null,
   "metadata": {},
   "outputs": [],
   "source": []
  }
 ],
 "metadata": {
  "kernelspec": {
   "display_name": "Python 3",
   "language": "python",
   "name": "python3"
  },
  "language_info": {
   "codemirror_mode": {
    "name": "ipython",
    "version": 3
   },
   "file_extension": ".py",
   "mimetype": "text/x-python",
   "name": "python",
   "nbconvert_exporter": "python",
   "pygments_lexer": "ipython3",
   "version": "3.8.8"
  },
  "toc": {
   "base_numbering": 1,
   "nav_menu": {},
   "number_sections": true,
   "sideBar": true,
   "skip_h1_title": false,
   "title_cell": "Table of Contents",
   "title_sidebar": "Contents",
   "toc_cell": false,
   "toc_position": {},
   "toc_section_display": true,
   "toc_window_display": false
  }
 },
 "nbformat": 4,
 "nbformat_minor": 4
}
