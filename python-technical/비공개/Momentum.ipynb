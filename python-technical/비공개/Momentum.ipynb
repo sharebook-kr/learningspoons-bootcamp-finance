{
 "cells": [
  {
   "cell_type": "markdown",
   "metadata": {},
   "source": [
    "# 모멘텀\n",
    "일정 기간의 주가를 비교하여 추세의 강함과 방향을 비교 분석하는 방법\n",
    "$$ 모멘텀 = \\frac{금일종가}{N일전 종가} \\times 100\n",
    "$$\n",
    "- RSI가 50이하이면 하락세\n",
    "- RSI가 50이상이면 상승세"
   ]
  },
  {
   "cell_type": "code",
   "execution_count": null,
   "metadata": {},
   "outputs": [],
   "source": []
  }
 ],
 "metadata": {
  "kernelspec": {
   "display_name": "Python 3",
   "language": "python",
   "name": "python3"
  },
  "language_info": {
   "codemirror_mode": {
    "name": "ipython",
    "version": 3
   },
   "file_extension": ".py",
   "mimetype": "text/x-python",
   "name": "python",
   "nbconvert_exporter": "python",
   "pygments_lexer": "ipython3",
   "version": "3.8.5"
  }
 },
 "nbformat": 4,
 "nbformat_minor": 4
}
